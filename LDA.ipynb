{
 "cells": [
  {
   "cell_type": "code",
   "execution_count": 1,
   "metadata": {},
   "outputs": [],
   "source": [
    "# fetching the training dataset \n",
    "import pandas as pd\n",
    "import numpy as np\n",
    "\n",
    "occupancy_data = pd.read_csv('datatraining.csv',names=None)"
   ]
  },
  {
   "cell_type": "code",
   "execution_count": 2,
   "metadata": {},
   "outputs": [],
   "source": [
    "from pandas import DataFrame\n",
    "\n",
    "occupancy_data['date']= pd.to_datetime(occupancy_data['date'])\n",
    "dt = DataFrame\n",
    "\n",
    "occupancy_data['month'] = occupancy_data['date'].dt.month\n",
    "occupancy_data['year'] = occupancy_data['date'].dt.year\n",
    "occupancy_data['day'] = occupancy_data['date'].dt.day\n",
    "occupancy_data['hour'] = occupancy_data['date'].dt.hour\n",
    "occupancy_data['second'] = occupancy_data['date'].dt.second\n",
    "occupancy_data['minute'] = occupancy_data['date'].dt.minute"
   ]
  },
  {
   "cell_type": "code",
   "execution_count": 3,
   "metadata": {},
   "outputs": [
    {
     "data": {
      "text/html": [
       "<div>\n",
       "<style scoped>\n",
       "    .dataframe tbody tr th:only-of-type {\n",
       "        vertical-align: middle;\n",
       "    }\n",
       "\n",
       "    .dataframe tbody tr th {\n",
       "        vertical-align: top;\n",
       "    }\n",
       "\n",
       "    .dataframe thead th {\n",
       "        text-align: right;\n",
       "    }\n",
       "</style>\n",
       "<table border=\"1\" class=\"dataframe\">\n",
       "  <thead>\n",
       "    <tr style=\"text-align: right;\">\n",
       "      <th></th>\n",
       "      <th>date</th>\n",
       "      <th>Temperature</th>\n",
       "      <th>Humidity</th>\n",
       "      <th>Light</th>\n",
       "      <th>CO2</th>\n",
       "      <th>HumidityRatio</th>\n",
       "      <th>Occupancy</th>\n",
       "      <th>month</th>\n",
       "      <th>year</th>\n",
       "      <th>day</th>\n",
       "      <th>hour</th>\n",
       "      <th>second</th>\n",
       "      <th>minute</th>\n",
       "      <th>period_of_day</th>\n",
       "    </tr>\n",
       "  </thead>\n",
       "  <tbody>\n",
       "    <tr>\n",
       "      <th>6857</th>\n",
       "      <td>2015-02-09 12:07:00</td>\n",
       "      <td>21.500000</td>\n",
       "      <td>33.4475</td>\n",
       "      <td>464.000000</td>\n",
       "      <td>1445.750000</td>\n",
       "      <td>0.005312</td>\n",
       "      <td>1</td>\n",
       "      <td>2</td>\n",
       "      <td>2015</td>\n",
       "      <td>9</td>\n",
       "      <td>12</td>\n",
       "      <td>0</td>\n",
       "      <td>7</td>\n",
       "      <td>1</td>\n",
       "    </tr>\n",
       "    <tr>\n",
       "      <th>5580</th>\n",
       "      <td>2015-02-08 14:50:00</td>\n",
       "      <td>20.356667</td>\n",
       "      <td>26.2000</td>\n",
       "      <td>70.333333</td>\n",
       "      <td>424.333333</td>\n",
       "      <td>0.003869</td>\n",
       "      <td>0</td>\n",
       "      <td>2</td>\n",
       "      <td>2015</td>\n",
       "      <td>8</td>\n",
       "      <td>14</td>\n",
       "      <td>0</td>\n",
       "      <td>50</td>\n",
       "      <td>1</td>\n",
       "    </tr>\n",
       "    <tr>\n",
       "      <th>3376</th>\n",
       "      <td>2015-02-07 02:06:00</td>\n",
       "      <td>19.890000</td>\n",
       "      <td>18.8900</td>\n",
       "      <td>0.000000</td>\n",
       "      <td>439.000000</td>\n",
       "      <td>0.002705</td>\n",
       "      <td>0</td>\n",
       "      <td>2</td>\n",
       "      <td>2015</td>\n",
       "      <td>7</td>\n",
       "      <td>2</td>\n",
       "      <td>0</td>\n",
       "      <td>6</td>\n",
       "      <td>0</td>\n",
       "    </tr>\n",
       "    <tr>\n",
       "      <th>2878</th>\n",
       "      <td>2015-02-06 17:48:00</td>\n",
       "      <td>21.650000</td>\n",
       "      <td>21.1250</td>\n",
       "      <td>433.000000</td>\n",
       "      <td>811.750000</td>\n",
       "      <td>0.003375</td>\n",
       "      <td>1</td>\n",
       "      <td>2</td>\n",
       "      <td>2015</td>\n",
       "      <td>6</td>\n",
       "      <td>17</td>\n",
       "      <td>0</td>\n",
       "      <td>48</td>\n",
       "      <td>1</td>\n",
       "    </tr>\n",
       "    <tr>\n",
       "      <th>3342</th>\n",
       "      <td>2015-02-07 01:32:00</td>\n",
       "      <td>19.945000</td>\n",
       "      <td>18.7900</td>\n",
       "      <td>0.000000</td>\n",
       "      <td>434.500000</td>\n",
       "      <td>0.002700</td>\n",
       "      <td>0</td>\n",
       "      <td>2</td>\n",
       "      <td>2015</td>\n",
       "      <td>7</td>\n",
       "      <td>1</td>\n",
       "      <td>0</td>\n",
       "      <td>32</td>\n",
       "      <td>0</td>\n",
       "    </tr>\n",
       "    <tr>\n",
       "      <th>2276</th>\n",
       "      <td>2015-02-06 07:46:00</td>\n",
       "      <td>20.100000</td>\n",
       "      <td>18.7450</td>\n",
       "      <td>419.000000</td>\n",
       "      <td>451.000000</td>\n",
       "      <td>0.002720</td>\n",
       "      <td>0</td>\n",
       "      <td>2</td>\n",
       "      <td>2015</td>\n",
       "      <td>6</td>\n",
       "      <td>7</td>\n",
       "      <td>0</td>\n",
       "      <td>46</td>\n",
       "      <td>1</td>\n",
       "    </tr>\n",
       "    <tr>\n",
       "      <th>4602</th>\n",
       "      <td>2015-02-07 22:32:00</td>\n",
       "      <td>19.790000</td>\n",
       "      <td>28.1500</td>\n",
       "      <td>0.000000</td>\n",
       "      <td>433.500000</td>\n",
       "      <td>0.004015</td>\n",
       "      <td>0</td>\n",
       "      <td>2</td>\n",
       "      <td>2015</td>\n",
       "      <td>7</td>\n",
       "      <td>22</td>\n",
       "      <td>0</td>\n",
       "      <td>32</td>\n",
       "      <td>0</td>\n",
       "    </tr>\n",
       "    <tr>\n",
       "      <th>2037</th>\n",
       "      <td>2015-02-06 03:47:00</td>\n",
       "      <td>20.500000</td>\n",
       "      <td>18.8900</td>\n",
       "      <td>0.000000</td>\n",
       "      <td>431.000000</td>\n",
       "      <td>0.002810</td>\n",
       "      <td>0</td>\n",
       "      <td>2</td>\n",
       "      <td>2015</td>\n",
       "      <td>6</td>\n",
       "      <td>3</td>\n",
       "      <td>0</td>\n",
       "      <td>47</td>\n",
       "      <td>0</td>\n",
       "    </tr>\n",
       "    <tr>\n",
       "      <th>5789</th>\n",
       "      <td>2015-02-08 18:19:00</td>\n",
       "      <td>19.290000</td>\n",
       "      <td>27.5000</td>\n",
       "      <td>0.000000</td>\n",
       "      <td>425.000000</td>\n",
       "      <td>0.003801</td>\n",
       "      <td>0</td>\n",
       "      <td>2</td>\n",
       "      <td>2015</td>\n",
       "      <td>8</td>\n",
       "      <td>18</td>\n",
       "      <td>0</td>\n",
       "      <td>19</td>\n",
       "      <td>0</td>\n",
       "    </tr>\n",
       "    <tr>\n",
       "      <th>3806</th>\n",
       "      <td>2015-02-07 09:16:00</td>\n",
       "      <td>20.000000</td>\n",
       "      <td>19.2900</td>\n",
       "      <td>126.333333</td>\n",
       "      <td>450.666667</td>\n",
       "      <td>0.002782</td>\n",
       "      <td>0</td>\n",
       "      <td>2</td>\n",
       "      <td>2015</td>\n",
       "      <td>7</td>\n",
       "      <td>9</td>\n",
       "      <td>0</td>\n",
       "      <td>16</td>\n",
       "      <td>1</td>\n",
       "    </tr>\n",
       "  </tbody>\n",
       "</table>\n",
       "</div>"
      ],
      "text/plain": [
       "                    date  Temperature  Humidity       Light          CO2  \\\n",
       "6857 2015-02-09 12:07:00    21.500000   33.4475  464.000000  1445.750000   \n",
       "5580 2015-02-08 14:50:00    20.356667   26.2000   70.333333   424.333333   \n",
       "3376 2015-02-07 02:06:00    19.890000   18.8900    0.000000   439.000000   \n",
       "2878 2015-02-06 17:48:00    21.650000   21.1250  433.000000   811.750000   \n",
       "3342 2015-02-07 01:32:00    19.945000   18.7900    0.000000   434.500000   \n",
       "2276 2015-02-06 07:46:00    20.100000   18.7450  419.000000   451.000000   \n",
       "4602 2015-02-07 22:32:00    19.790000   28.1500    0.000000   433.500000   \n",
       "2037 2015-02-06 03:47:00    20.500000   18.8900    0.000000   431.000000   \n",
       "5789 2015-02-08 18:19:00    19.290000   27.5000    0.000000   425.000000   \n",
       "3806 2015-02-07 09:16:00    20.000000   19.2900  126.333333   450.666667   \n",
       "\n",
       "      HumidityRatio  Occupancy  month  year  day  hour  second  minute  \\\n",
       "6857       0.005312          1      2  2015    9    12       0       7   \n",
       "5580       0.003869          0      2  2015    8    14       0      50   \n",
       "3376       0.002705          0      2  2015    7     2       0       6   \n",
       "2878       0.003375          1      2  2015    6    17       0      48   \n",
       "3342       0.002700          0      2  2015    7     1       0      32   \n",
       "2276       0.002720          0      2  2015    6     7       0      46   \n",
       "4602       0.004015          0      2  2015    7    22       0      32   \n",
       "2037       0.002810          0      2  2015    6     3       0      47   \n",
       "5789       0.003801          0      2  2015    8    18       0      19   \n",
       "3806       0.002782          0      2  2015    7     9       0      16   \n",
       "\n",
       "      period_of_day  \n",
       "6857              1  \n",
       "5580              1  \n",
       "3376              0  \n",
       "2878              1  \n",
       "3342              0  \n",
       "2276              1  \n",
       "4602              0  \n",
       "2037              0  \n",
       "5789              0  \n",
       "3806              1  "
      ]
     },
     "execution_count": 3,
     "metadata": {},
     "output_type": "execute_result"
    }
   ],
   "source": [
    "occupancy_data['period_of_day'] = [1 if (i.hour >= 7 and i.hour <= 17) else 0 for i in occupancy_data['date']]\n",
    "occupancy_data.sample(10)"
   ]
  },
  {
   "cell_type": "code",
   "execution_count": 4,
   "metadata": {},
   "outputs": [
    {
     "data": {
      "text/html": [
       "<div>\n",
       "<style scoped>\n",
       "    .dataframe tbody tr th:only-of-type {\n",
       "        vertical-align: middle;\n",
       "    }\n",
       "\n",
       "    .dataframe tbody tr th {\n",
       "        vertical-align: top;\n",
       "    }\n",
       "\n",
       "    .dataframe thead th {\n",
       "        text-align: right;\n",
       "    }\n",
       "</style>\n",
       "<table border=\"1\" class=\"dataframe\">\n",
       "  <thead>\n",
       "    <tr style=\"text-align: right;\">\n",
       "      <th></th>\n",
       "      <th>Temperature</th>\n",
       "      <th>Humidity</th>\n",
       "      <th>Light</th>\n",
       "      <th>CO2</th>\n",
       "      <th>HumidityRatio</th>\n",
       "      <th>Occupancy</th>\n",
       "      <th>period_of_day</th>\n",
       "    </tr>\n",
       "  </thead>\n",
       "  <tbody>\n",
       "    <tr>\n",
       "      <th>1</th>\n",
       "      <td>23.18</td>\n",
       "      <td>27.2720</td>\n",
       "      <td>426.0</td>\n",
       "      <td>721.25</td>\n",
       "      <td>0.004793</td>\n",
       "      <td>1</td>\n",
       "      <td>1</td>\n",
       "    </tr>\n",
       "    <tr>\n",
       "      <th>2</th>\n",
       "      <td>23.15</td>\n",
       "      <td>27.2675</td>\n",
       "      <td>429.5</td>\n",
       "      <td>714.00</td>\n",
       "      <td>0.004783</td>\n",
       "      <td>1</td>\n",
       "      <td>1</td>\n",
       "    </tr>\n",
       "    <tr>\n",
       "      <th>3</th>\n",
       "      <td>23.15</td>\n",
       "      <td>27.2450</td>\n",
       "      <td>426.0</td>\n",
       "      <td>713.50</td>\n",
       "      <td>0.004779</td>\n",
       "      <td>1</td>\n",
       "      <td>1</td>\n",
       "    </tr>\n",
       "    <tr>\n",
       "      <th>4</th>\n",
       "      <td>23.15</td>\n",
       "      <td>27.2000</td>\n",
       "      <td>426.0</td>\n",
       "      <td>708.25</td>\n",
       "      <td>0.004772</td>\n",
       "      <td>1</td>\n",
       "      <td>1</td>\n",
       "    </tr>\n",
       "    <tr>\n",
       "      <th>5</th>\n",
       "      <td>23.10</td>\n",
       "      <td>27.2000</td>\n",
       "      <td>426.0</td>\n",
       "      <td>704.50</td>\n",
       "      <td>0.004757</td>\n",
       "      <td>1</td>\n",
       "      <td>1</td>\n",
       "    </tr>\n",
       "  </tbody>\n",
       "</table>\n",
       "</div>"
      ],
      "text/plain": [
       "   Temperature  Humidity  Light     CO2  HumidityRatio  Occupancy  \\\n",
       "1        23.18   27.2720  426.0  721.25       0.004793          1   \n",
       "2        23.15   27.2675  429.5  714.00       0.004783          1   \n",
       "3        23.15   27.2450  426.0  713.50       0.004779          1   \n",
       "4        23.15   27.2000  426.0  708.25       0.004772          1   \n",
       "5        23.10   27.2000  426.0  704.50       0.004757          1   \n",
       "\n",
       "   period_of_day  \n",
       "1              1  \n",
       "2              1  \n",
       "3              1  \n",
       "4              1  \n",
       "5              1  "
      ]
     },
     "execution_count": 4,
     "metadata": {},
     "output_type": "execute_result"
    }
   ],
   "source": [
    "trainingdata = occupancy_data.drop(['date','month','year','day','hour','second','minute'],axis=1)\n",
    "trainingdata.head()"
   ]
  },
  {
   "cell_type": "code",
   "execution_count": 5,
   "metadata": {},
   "outputs": [],
   "source": [
    "X_train = trainingdata.drop(['Occupancy'],axis=1)\n",
    "y_train = trainingdata[['Occupancy']]\n"
   ]
  },
  {
   "cell_type": "code",
   "execution_count": 6,
   "metadata": {},
   "outputs": [],
   "source": [
    "from pandas import DataFrame\n",
    "\n",
    "testdata = pd.read_csv('datatest.csv',names=None)\n",
    "\n",
    "testdata['date'] = pd.to_datetime(testdata['date'])\n",
    "dt = DataFrame\n",
    "\n",
    "testdata['month'] = testdata['date'].dt.month\n",
    "testdata['year'] = testdata['date'].dt.year\n",
    "testdata['day'] = testdata['date'].dt.day\n",
    "testdata['hour'] = testdata['date'].dt.hour\n",
    "testdata['second'] = testdata['date'].dt.second\n",
    "testdata['minute'] = testdata['date'].dt.minute\n",
    "\n",
    "testdata['period_of_day'] = [1 if (i.hour >= 7 and i.hour <= 17) else 0 for i in testdata['date']]\n",
    "\n",
    "testdata = testdata.drop(['date','month','year','day','hour','second','minute'],axis=1)\n",
    "\n",
    "X_test = testdata.drop(['Occupancy'],axis=1)\n",
    "y_test = testdata[['Occupancy']]"
   ]
  },
  {
   "cell_type": "code",
   "execution_count": 7,
   "metadata": {},
   "outputs": [],
   "source": [
    "from sklearn.discriminant_analysis import LinearDiscriminantAnalysis\n",
    "lda = LinearDiscriminantAnalysis()\n",
    "y_pred_lda = lda.fit(X_train, np.ravel(y_train)).predict(X_test)"
   ]
  },
  {
   "cell_type": "code",
   "execution_count": 8,
   "metadata": {},
   "outputs": [
    {
     "data": {
      "text/plain": [
       "0.02101313320825516"
      ]
     },
     "execution_count": 8,
     "metadata": {},
     "output_type": "execute_result"
    }
   ],
   "source": [
    "from sklearn.metrics import mean_squared_error\n",
    "mean_squared_error(y_pred_lda,y_test)"
   ]
  },
  {
   "cell_type": "code",
   "execution_count": 9,
   "metadata": {},
   "outputs": [
    {
     "data": {
      "text/plain": [
       "array([[1638,   55],\n",
       "       [   1,  971]])"
      ]
     },
     "execution_count": 9,
     "metadata": {},
     "output_type": "execute_result"
    }
   ],
   "source": [
    "# import the metrics class\n",
    "from sklearn import metrics\n",
    "cnf_matrix = metrics.confusion_matrix(y_test, y_pred_lda)\n",
    "cnf_matrix"
   ]
  },
  {
   "cell_type": "code",
   "execution_count": 10,
   "metadata": {},
   "outputs": [
    {
     "data": {
      "text/plain": [
       "Text(0.5, 257.44, 'Predicted label')"
      ]
     },
     "execution_count": 10,
     "metadata": {},
     "output_type": "execute_result"
    },
    {
     "data": {
      "image/png": "[encoded data removed]",
      "text/plain": [
       "<Figure size 432x288 with 2 Axes>"
      ]
     },
     "metadata": {
      "needs_background": "light"
     },
     "output_type": "display_data"
    }
   ],
   "source": [
    "# import required modules\n",
    "import numpy as np\n",
    "import matplotlib.pyplot as plt\n",
    "import seaborn as sns\n",
    "\n",
    "%matplotlib inline\n",
    "\n",
    "class_names=[0,1] # name  of classes\n",
    "fig, ax = plt.subplots()\n",
    "tick_marks = np.arange(len(class_names))\n",
    "plt.xticks(tick_marks, class_names)\n",
    "plt.yticks(tick_marks, class_names)\n",
    "# create heatmap\n",
    "sns.heatmap(pd.DataFrame(cnf_matrix), annot=True, cmap=\"YlGnBu\" ,fmt='g')\n",
    "ax.xaxis.set_label_position(\"top\")\n",
    "plt.tight_layout()\n",
    "plt.title('Confusion matrix', y=1.1)\n",
    "plt.ylabel('Actual label')\n",
    "plt.xlabel('Predicted label')"
   ]
  },
  {
   "cell_type": "code",
   "execution_count": 11,
   "metadata": {},
   "outputs": [
    {
     "name": "stdout",
     "output_type": "stream",
     "text": [
      "Accuracy: 0.9789868667917448\n",
      "Precision: 0.9463937621832359\n",
      "Recall: 0.9989711934156379\n"
     ]
    }
   ],
   "source": [
    "print(\"Accuracy:\",metrics.accuracy_score(y_test, y_pred_lda))\n",
    "print(\"Precision:\",metrics.precision_score(y_test, y_pred_lda))\n",
    "print(\"Recall:\",metrics.recall_score(y_test, y_pred_lda))"
   ]
  },
  {
   "cell_type": "code",
   "execution_count": 12,
   "metadata": {},
   "outputs": [
    {
     "data": {
      "image/png": "[encoded data removed]",
      "text/plain": [
       "<Figure size 432x288 with 1 Axes>"
      ]
     },
     "metadata": {
      "needs_background": "light"
     },
     "output_type": "display_data"
    }
   ],
   "source": [
    "y_pred_proba = lda.predict_proba(X_test)[::,1]\n",
    "fpr, tpr, _ = metrics.roc_curve(y_test,  y_pred_proba)\n",
    "auc = metrics.roc_auc_score(y_test, y_pred_proba)\n",
    "plt.plot(fpr,tpr,label=\"data 1, auc=\"+str(auc))\n",
    "plt.legend(loc=4)\n",
    "plt.show()"
   ]
  },
  {
   "cell_type": "code",
   "execution_count": null,
   "metadata": {},
   "outputs": [],
   "source": []
  }
 ],
 "metadata": {
  "kernelspec": {
   "display_name": "Python 3 (ipykernel)",
   "language": "python",
   "name": "python3"
  },
  "language_info": {
   "codemirror_mode": {
    "name": "ipython",
    "version": 3
   },
   "file_extension": ".py",
   "mimetype": "text/x-python",
   "name": "python",
   "nbconvert_exporter": "python",
   "pygments_lexer": "ipython3",
   "version": "3.9.13"
  }
 },
 "nbformat": 4,
 "nbformat_minor": 4
}
